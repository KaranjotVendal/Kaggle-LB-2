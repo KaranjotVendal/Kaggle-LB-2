{
 "cells": [
  {
   "cell_type": "code",
   "execution_count": 1,
   "metadata": {},
   "outputs": [],
   "source": [
    "import pandas as pd\n",
    "from torch.utils.data import Dataset\n",
    "import albumentations as A"
   ]
  },
  {
   "cell_type": "code",
   "execution_count": 2,
   "metadata": {},
   "outputs": [],
   "source": [
    "import random\n",
    "import torch\n",
    "import glob\n",
    "import os\n",
    "import json\n",
    "import matplotlib.pyplot as plt\n"
   ]
  },
  {
   "cell_type": "code",
   "execution_count": 9,
   "metadata": {},
   "outputs": [],
   "source": [
    "def plot_test_metrics(json_filepath, metric_name):\n",
    "    dataset_type = 'test'\n",
    "    # Load the metrics from the JSON file\n",
    "    with open(json_filepath, \"r\") as file:\n",
    "        metrics_dict = json.load(file)\n",
    "    \n",
    "    # Extract the specified metric for each fold\n",
    "    folds = sorted(list(metrics_dict.keys()), key=int)  # Ensure the folds are in numerical order\n",
    "    metric_values = [metrics_dict[fold][dataset_type][metric_name][0] for fold in folds]\n",
    "    \n",
    "    # Plot the metric values\n",
    "    plt.figure(figsize=(10, 6))\n",
    "    plt.plot(folds, metric_values, marker='o', linestyle='-')\n",
    "    plt.xlabel(\"Folds\")\n",
    "    plt.ylabel(f\"{metric_name.capitalize()} Score\")\n",
    "    plt.title(f\"{metric_name.capitalize()} Score w.r.t Folds for {dataset_type.capitalize()} Dataset\")\n",
    "    plt.xticks(folds)  # This ensures each fold is shown on the x-axis\n",
    "    plt.grid(True)#, which='both', linestyle='--', linewidth=0.5)\n",
    "    plt.tight_layout()\n",
    "    plt.savefig(f'./test_{metric_name}_plot_svg.pdf', dpi=300)\n",
    "    plt.close()"
   ]
  },
  {
   "cell_type": "code",
   "execution_count": 10,
   "metadata": {},
   "outputs": [],
   "source": [
    "plot_test_metrics('./plots/Efficientb0/metrics_Efficientb0.json', 'auroc')"
   ]
  },
  {
   "cell_type": "code",
   "execution_count": null,
   "metadata": {},
   "outputs": [],
   "source": [
    "plot_test_metrics('./plots/Efficientb0/metrics_Efficientb0.json', 'auroc')"
   ]
  }
 ],
 "metadata": {
  "kernelspec": {
   "display_name": "thesis",
   "language": "python",
   "name": "python3"
  },
  "language_info": {
   "codemirror_mode": {
    "name": "ipython",
    "version": 3
   },
   "file_extension": ".py",
   "mimetype": "text/x-python",
   "name": "python",
   "nbconvert_exporter": "python",
   "pygments_lexer": "ipython3",
   "version": "3.11.4"
  },
  "orig_nbformat": 4
 },
 "nbformat": 4,
 "nbformat_minor": 2
}
